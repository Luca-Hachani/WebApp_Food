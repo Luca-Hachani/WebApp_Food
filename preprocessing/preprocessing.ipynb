{
 "cells": [
  {
   "cell_type": "markdown",
   "metadata": {},
   "source": [
    "### Tous les choix dans ce code se base sur notre fouille de donnée"
   ]
  },
  {
   "cell_type": "code",
   "execution_count": 1,
   "metadata": {},
   "outputs": [],
   "source": [
    "import pandas as pd\n",
    "import numpy as np\n",
    "import networkx as nx\n",
    "\n",
    "from sklearn.cluster import KMeans\n",
    "from itertools import chain\n",
    "from itertools import combinations"
   ]
  },
  {
   "cell_type": "code",
   "execution_count": null,
   "metadata": {},
   "outputs": [],
   "source": [
    "# Charger les données des utilisateurs et des recettes depuis des fichiers CSV\n",
    "# https://www.kaggle.com/datasets/shuyangli94/food-com-recipes-and-user-interactions\n",
    "usr_rates = pd.read_csv('data/RAW_interactions.csv').copy()\n",
    "rcp = pd.read_csv('data/RAW_recipes.csv').copy()"
   ]
  },
  {
   "cell_type": "markdown",
   "metadata": {},
   "source": [
    "On cherche à séparer les plats des desserts, plus précisemment le salé du sucré. Comme notre algorithme se base sur la distance entre les utilisateurs pour recommander un plat ou un dessert, il nous semble pertinent de les séparer.\\\n",
    "Pour les séparer, on séléctionne les tags les plus récurrents dans le dataset :\\\n",
    "meat, vegetables et seafood pour les plats\\\n",
    "desserts, cookies-and-brownies et chocolate pour les desserts"
   ]
  },
  {
   "cell_type": "code",
   "execution_count": 3,
   "metadata": {},
   "outputs": [],
   "source": [
    "# Filtrer les recettes par plat et dessert en fonction des tags choisit\n",
    "rcp_main_dish = rcp[rcp['tags'].apply(lambda x: 'main-dish' in x or 'meat' in x or 'vegetables' in x or 'seafood' in x)]\n",
    "rcp_dessert = rcp[rcp['tags'].apply(lambda x: 'desserts' in x or 'cookies-and-brownies' in x or 'chocolate' in x)]"
   ]
  },
  {
   "cell_type": "code",
   "execution_count": 4,
   "metadata": {},
   "outputs": [],
   "source": [
    "# Créer des ensembles (sets) d'identifiants de recettes pour les plats principaux et les desserts\n",
    "main_dish_ids = set(rcp_main_dish['id'])\n",
    "dessert_ids = set(rcp_dessert['id'])\n",
    "\n",
    "# Définir une fonction pour déterminer le type de plat (main dish ou dessert) en fonction de l'ID de la recette\n",
    "def get_type_of_dish(recipe_id):\n",
    "    if recipe_id in dessert_ids:\n",
    "        return 'dessert' # Si l'ID appartient aux desserts\n",
    "    elif recipe_id in main_dish_ids:\n",
    "        return 'main' # Si l'ID appartient aux plats principaux\n",
    "    else:\n",
    "        return 'none' # Si l'ID n'appartient à aucun des deux\n",
    "\n",
    "# Appliquer la fonction pour ajouter une colonne 'type_of_dish' dans les données des recettes\n",
    "rcp['type_of_dish'] = rcp['id'].apply(get_type_of_dish)\n",
    "\n",
    "# Filtrer les recettes pour garder uniquement celles classées comme dessert ou plat principal\n",
    "rcp = rcp[rcp['type_of_dish'] != 'none']"
   ]
  },
  {
   "cell_type": "markdown",
   "metadata": {},
   "source": [
    "Les review et date ne sont pas importante "
   ]
  },
  {
   "cell_type": "markdown",
   "metadata": {},
   "source": [
    "On récupère dans des listes toutes les notes de chaque utilisateur pour binariser leur notes entre -1 et 1 (j'aime pas, j'aime) de façon personelle"
   ]
  },
  {
   "cell_type": "code",
   "execution_count": 5,
   "metadata": {},
   "outputs": [],
   "source": [
    "# Supprimer les colonnes inutiles des interactions utilisateur\n",
    "usr_rates.drop(columns=['review', 'date'], inplace=True)\n",
    "\n",
    "# Regrouper les interactions par utilisateur et agréger les valeurs sous forme de listes\n",
    "usr_rates = usr_rates.groupby('user_id').aggregate(list)"
   ]
  },
  {
   "cell_type": "code",
   "execution_count": 6,
   "metadata": {},
   "outputs": [],
   "source": [
    "# Mettre à jour les ensembles d'identifiants pour les desserts et les plats principaux\n",
    "dessert_ids = set(rcp[rcp['type_of_dish'] == 'dessert']['id'])\n",
    "main_dish_ids = set(rcp[rcp['type_of_dish'] == 'main']['id'])\n",
    "\n",
    "# Fonction pour extraire les desserts depuis une liste d'IDs de recettes\n",
    "def get_list_of_desserts(recipe_id):\n",
    "    x = []\n",
    "    for i in recipe_id:\n",
    "        if i in dessert_ids:\n",
    "            x.append(i)\n",
    "    return x\n",
    "\n",
    "# Fonction pour extraire les plats principaux depuis une liste d'IDs de recettes\n",
    "def get_list_of_mains(recipe_id):\n",
    "    x = []\n",
    "    for i in recipe_id:\n",
    "        if i in main_dish_ids:\n",
    "            x.append(i)\n",
    "    return x\n",
    "\n",
    "# Appliquer les fonctions pour ajouter des colonnes 'recipes_dessert' et 'recipes_main' dans les données utilisateur\n",
    "usr_rates['recipes_dessert'] = usr_rates['recipe_id'].apply(get_list_of_desserts)\n",
    "usr_rates['recipes_main'] = usr_rates['recipe_id'].apply(get_list_of_mains)"
   ]
  },
  {
   "cell_type": "markdown",
   "metadata": {},
   "source": [
    "Binarisation des notes via un Kmeans"
   ]
  },
  {
   "cell_type": "code",
   "execution_count": 7,
   "metadata": {},
   "outputs": [],
   "source": [
    "# Fonction pour binariser les notes en utilisant K-Means\n",
    "def cluster_ratings(ratings):\n",
    "    km = KMeans(n_clusters=2, verbose=0, random_state=42)\n",
    "    ratings_array = np.array(ratings).reshape(-1, 1)\n",
    "    if len(set(ratings)) > 1:\n",
    "        km.fit(ratings_array)\n",
    "        \n",
    "        # Calculer les moyennes des clusters\n",
    "        cluster_0_mean = np.mean(ratings_array[km.labels_ == 0])\n",
    "        cluster_1_mean = np.mean(ratings_array[km.labels_ == 1])\n",
    "        \n",
    "        # Identifier le cluster avec la moyenne la plus élevée\n",
    "        high_label = 0 if cluster_0_mean > cluster_1_mean else 1\n",
    "        \n",
    "        # Assigner 1 aux notes les plus hautes et -1 aux autres\n",
    "        return [1 if label == high_label else -1 for label in km.labels_]\n",
    "    else:\n",
    "        # Si toutes les notes sont identiques, les considérer comme \"likées\"\n",
    "        return [1 for _ in ratings]\n",
    "\n",
    "# Ajouter une colonne 'ratings_binary' avec les notes binarisées\n",
    "usr_rates['ratings_binary'] = usr_rates['rating'].apply(cluster_ratings)"
   ]
  },
  {
   "cell_type": "code",
   "execution_count": 8,
   "metadata": {},
   "outputs": [],
   "source": [
    "# Initialiser deux nouvelles colonnes pour les notes binaires des desserts et des plats principaux\n",
    "usr_rates['ratings_dessert_binary'] = usr_rates['rating'].apply(lambda x: [])\n",
    "usr_rates['ratings_main_binary'] = usr_rates['rating'].apply(lambda x: [])"
   ]
  },
  {
   "cell_type": "code",
   "execution_count": 9,
   "metadata": {},
   "outputs": [],
   "source": [
    "# Remplir les colonnes des notes binaires pour les desserts et les plats principaux\n",
    "for i in usr_rates.index: # Parcourir chaque utilisateur\n",
    "    \n",
    "    # Si l'utilisateur a noté des desserts\n",
    "    if usr_rates['recipes_dessert'][i] != []:\n",
    "\n",
    "        # Associer la note binaire à la recette de dessert correspondante\n",
    "        for j in range(len(usr_rates['recipes_dessert'][i])):\n",
    "            usr_rates['ratings_dessert_binary'][i].append(usr_rates['ratings_binary'][i][usr_rates['recipe_id'][i].index(usr_rates['recipes_dessert'][i][j])])\n",
    "\n",
    "    # Si l'utilisateur a noté des plats principaux\n",
    "    if usr_rates['recipes_main'][i] != []:\n",
    "        \n",
    "        # Associer la note binaire à la recette de plat principal correspondante\n",
    "        for j in range(len(usr_rates['recipes_main'][i])):\n",
    "            usr_rates['ratings_main_binary'][i].append(usr_rates['ratings_binary'][i][usr_rates['recipe_id'][i].index(usr_rates['recipes_main'][i][j])])"
   ]
  },
  {
   "cell_type": "markdown",
   "metadata": {},
   "source": [
    "Séparation des plats et desserts dans deux dataframe différents"
   ]
  },
  {
   "cell_type": "code",
   "execution_count": 10,
   "metadata": {},
   "outputs": [],
   "source": [
    "# Extraire uniquement les colonnes des recettes principales et leurs notes binaires\n",
    "usr_rates_main_dish = usr_rates[['recipes_main', 'ratings_main_binary']]\n",
    "\n",
    "# Renommer les colonnes pour qu'elles soient plus génériques et adaptées à l'utilisation ultérieure\n",
    "usr_rates_main_dish.columns = ['recipes_id', 'rates']\n",
    "\n",
    "# Réinitialiser l'index pour transformer l'index en colonne et obtenir une structure tabulaire standard\n",
    "usr_rates_main_dish.reset_index(drop=False, inplace=True)\n",
    "\n",
    "# Extraire uniquement les colonnes des desserts et leurs notes binaires\n",
    "usr_rates_dessert = usr_rates[['recipes_dessert', 'ratings_dessert_binary']]\n",
    "\n",
    "# Renommer les colonnes pour uniformiser le format des données\n",
    "usr_rates_dessert.columns = ['recipes_id', 'rates']\n",
    "\n",
    "# Réinitialiser l'index pour transformer l'index en colonne, comme pour les plats principaux\n",
    "usr_rates_dessert.reset_index(drop=False, inplace=True)\n"
   ]
  },
  {
   "cell_type": "markdown",
   "metadata": {},
   "source": [
    "Création des matrices plat et dessert avec en ligne chaque utilisateur et en colonne chaque recette, faisant apparaître des vecteurs utilisateur/recette"
   ]
  },
  {
   "cell_type": "code",
   "execution_count": 11,
   "metadata": {},
   "outputs": [],
   "source": [
    "def matrix(usr_rates):\n",
    "    # Récupère et trie les recettes uniques\n",
    "    recipes = sorted(set(chain.from_iterable(filter(None, usr_rates['recipes_id']))))\n",
    "    \n",
    "    # Liste des utilisateurs\n",
    "    users = usr_rates['user_id']\n",
    "    \n",
    "    # Initialise une matrice de zéros (utilisateurs x recettes)\n",
    "    M = np.zeros((len(users), len(recipes)))\n",
    "    \n",
    "    # Associe chaque recette à un index\n",
    "    rcp_idx = {recipe: idx for idx, recipe in enumerate(recipes)}\n",
    "    \n",
    "    # Remplit la matrice avec les notes des utilisateurs\n",
    "    for idx, (rcps, rates) in enumerate(zip(usr_rates['recipes_id'], usr_rates['rates'])):\n",
    "        for rcp, rate in zip(rcps, rates):     \n",
    "            M[idx, rcp_idx[rcp]] = rate\n",
    "    \n",
    "    # Convertit la matrice en DataFrame avec utilisateurs et recettes comme index et colonnes\n",
    "    df_matrix = pd.DataFrame(M, index=users, columns=recipes)\n",
    "\n",
    "    return df_matrix"
   ]
  },
  {
   "cell_type": "code",
   "execution_count": 12,
   "metadata": {},
   "outputs": [],
   "source": [
    "# Construit les matrices utilisateur-recette pour les plats principaux et desserts\n",
    "df_matrix_main_dish = matrix(usr_rates_main_dish)\n",
    "df_matrix_dessert = matrix(usr_rates_dessert)"
   ]
  },
  {
   "cell_type": "markdown",
   "metadata": {},
   "source": [
    "Après observation des données au travers de graphe de réseau, nous avons remarqué la présence d'utilisateur isolé, les utilisateurs isolés sont des utilisateurs ayant noté des recettes que personne d'autre n'a noté, on veut donc les supprimer de nos jeux de donnée.\\\n",
    "Nous avons également pris la décision de retirer :\n",
    "- Toutes les recettes ayant moins d'une note\n",
    "- Tous les utilisateurs avec moins de deux notes\n",
    "- Tous les utilisateurs sans au moins une note positive\n",
    "\n",
    "Pour la fonction PP(), on boucle jusqu'à ce que les dimensions de nos dataframes ne bouge plus, impliquant que toutes nos règles ci-dessus sont respectés  "
   ]
  },
  {
   "cell_type": "code",
   "execution_count": 13,
   "metadata": {},
   "outputs": [],
   "source": [
    "def drop_isolated_users(df_matrix):\n",
    "    # Convertit le DataFrame en matrice NumPy pour des calculs rapides\n",
    "    np_matrix = df_matrix.to_numpy()\n",
    "    \n",
    "    # Compte le nombre d'éléments non nuls par colonne (recettes)\n",
    "    col_counts = (np_matrix != 0).sum(axis=0)\n",
    "\n",
    "    # Identifie les colonnes actives (au moins deux utilisateurs ont noté la recette)\n",
    "    active_cols = col_counts >= 2\n",
    "    \n",
    "    # Initialise un masque pour les utilisateurs non isolés\n",
    "    not_isolated_users = np.zeros(np_matrix.shape[0], dtype=bool)\n",
    "    \n",
    "    # Marque comme non isolés les utilisateurs ayant noté une recette active\n",
    "    for col in np.where(active_cols)[0]:\n",
    "        not_isolated_users |= (np_matrix[:, col] != 0)\n",
    "    \n",
    "    # Identifie les utilisateurs isolés\n",
    "    isolated_users = df_matrix.index[~not_isolated_users]\n",
    "    \n",
    "    # Supprime les utilisateurs isolés du DataFrame\n",
    "    return df_matrix.drop(index=isolated_users)\n"
   ]
  },
  {
   "cell_type": "code",
   "execution_count": 14,
   "metadata": {},
   "outputs": [],
   "source": [
    "def PP(df_matrix):\n",
    "    # Sauvegarde la forme initiale de la matrice\n",
    "    shape = df_matrix.shape\n",
    "\n",
    "    # Filtre initial : Conserve uniquement les utilisateurs ayant au moins 2 notes\n",
    "    df_filt_matrix = df_matrix.loc[(df_matrix != 0).sum(axis=1) >= 2]\n",
    "\n",
    "    while True:\n",
    "        # Étape 1 : Conserve les colonnes (recettes) avec au moins 1 note\n",
    "        df_filt_matrix = df_filt_matrix.loc[:, (df_filt_matrix != 0).sum(axis=0) >= 1]\n",
    "        \n",
    "        # Étape 2 : Conserve les lignes (utilisateurs) avec au moins 2 notes\n",
    "        df_filt_matrix = df_filt_matrix.loc[(df_filt_matrix != 0).sum(axis=1) >= 2]\n",
    "        \n",
    "        # Étape 3 : Conserve les utilisateurs ayant au moins 1 note positive\n",
    "        df_filt_matrix = df_filt_matrix.loc[(df_filt_matrix == 1).sum(axis=1) >= 1]\n",
    "        \n",
    "        # Étape 4 : Supprime les utilisateurs isolés\n",
    "        df_filt_matrix = drop_isolated_users(df_filt_matrix)\n",
    "\n",
    "        # Vérifie si la forme de la matrice a changé, sinon termine la boucle\n",
    "        if df_filt_matrix.shape == shape:\n",
    "            break\n",
    "        else:\n",
    "            shape = df_filt_matrix.shape\n",
    "\n",
    "    # Retourne la matrice filtrée\n",
    "    return df_filt_matrix"
   ]
  },
  {
   "cell_type": "code",
   "execution_count": 15,
   "metadata": {},
   "outputs": [],
   "source": [
    "# Applique le processus de filtrage (PP) pour les plats principaux et desserts\n",
    "df_filt_matrix_main_dish = PP(df_matrix_main_dish)\n",
    "df_filt_matrix_dessert = PP(df_matrix_dessert)"
   ]
  },
  {
   "cell_type": "markdown",
   "metadata": {},
   "source": [
    "À partir de nos matrices, on retourne au format initial, format utilisé par notre algorithme de calcul des distances. "
   ]
  },
  {
   "cell_type": "code",
   "execution_count": 16,
   "metadata": {},
   "outputs": [],
   "source": [
    "def matrix_toFormat(df_matrix):\n",
    "    # Initialise une liste pour stocker les tuples (utilisateur, recette, note)\n",
    "    lst = []\n",
    "    \n",
    "    # Parcourt chaque utilisateur (ligne de la matrice)\n",
    "    for usr in df_matrix.index:\n",
    "        # Récupère les recettes et notes de l'utilisateur\n",
    "        rates = df_matrix.loc[usr][df_matrix.loc[usr] != 0]\n",
    "        \n",
    "        # Ajoute un tuple (utilisateur, recette, note) pour chaque recette notée\n",
    "        for rcp, rate in rates.items():\n",
    "            lst.append((usr, rcp, rate))\n",
    "    \n",
    "    # Convertit la liste en DataFrame avec colonnes 'user_id', 'recipe_id', et 'rate'\n",
    "    df = pd.DataFrame(lst, columns=['user_id', 'recipe_id', 'rate'])\n",
    "\n",
    "    # Retourne le DataFrame formaté\n",
    "    return df"
   ]
  },
  {
   "cell_type": "code",
   "execution_count": 17,
   "metadata": {},
   "outputs": [],
   "source": [
    "# Convertit les matrices filtrée des plats principaux et desserts en DataFrame formaté\n",
    "main_dishes = matrix_toFormat(df_filt_matrix_main_dish)\n",
    "desserts = matrix_toFormat(df_filt_matrix_dessert)"
   ]
  },
  {
   "cell_type": "code",
   "execution_count": 18,
   "metadata": {},
   "outputs": [],
   "source": [
    "# Sauvegarde les DataFrames des plats principaux et desserts filtrés dans des fichiers CSV\n",
    "main_dishes.to_csv('data/PP_user_main_dishes.csv')\n",
    "desserts.to_csv('data/PP_user_desserts.csv')"
   ]
  },
  {
   "cell_type": "markdown",
   "metadata": {},
   "source": [
    "Dans notre application, on souhaite afficher les noms, descriptions, étapes et ingrédients de chaque recette, On récupère donc tous nos toutes ces infos à partir de nos id finaux  "
   ]
  },
  {
   "cell_type": "code",
   "execution_count": null,
   "metadata": {},
   "outputs": [],
   "source": [
    "# Combine les identifiants de recettes des plats principaux et des desserts\n",
    "ids = set(main_dishes['recipe_id']).union(set(desserts['recipe_id']))\n",
    "\n",
    "# Filtre les données des recettes pour ne conserver que celles correspondant aux identifiants sélectionnés\n",
    "recipes_data = rcp[rcp['id'].isin(ids)].copy()\n",
    "\n",
    "# Supprime les colonnes inutiles\n",
    "recipes_data.drop(columns=['minutes', 'contributor_id', 'submitted', 'tags', 'nutrition', 'n_steps', 'n_ingredients', 'type_of_dish'], inplace=True)\n",
    "\n",
    "# Définir les id des recettes en tant qu'index\n",
    "recipes_data.set_index('id')\n",
    "\n",
    "# Réorganise les colonnes\n",
    "recipes_data = recipes_data[['id', 'name', 'description', 'steps', 'ingredients']]"
   ]
  },
  {
   "cell_type": "code",
   "execution_count": 30,
   "metadata": {},
   "outputs": [],
   "source": [
    "# Sauvegarde les données filtrées des recettes dans un fichier CSV\n",
    "recipes_data.to_csv('data/PP_recipes_data.csv')"
   ]
  }
 ],
 "metadata": {
  "kernelspec": {
   "display_name": "PROJET_BIGDATA",
   "language": "python",
   "name": "python3"
  },
  "language_info": {
   "codemirror_mode": {
    "name": "ipython",
    "version": 3
   },
   "file_extension": ".py",
   "mimetype": "text/x-python",
   "name": "python",
   "nbconvert_exporter": "python",
   "pygments_lexer": "ipython3",
   "version": "3.12.7"
  }
 },
 "nbformat": 4,
 "nbformat_minor": 2
}
