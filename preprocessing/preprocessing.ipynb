{
 "cells": [
  {
   "cell_type": "markdown",
   "metadata": {},
   "source": [
    "### All the choices in this code are based on our data mining efforts."
   ]
  },
  {
   "cell_type": "code",
   "execution_count": 1,
   "metadata": {},
   "outputs": [],
   "source": [
    "import pandas as pd\n",
    "import numpy as np\n",
    "\n",
    "from sklearn.cluster import KMeans\n",
    "from itertools import chain"
   ]
  },
  {
   "cell_type": "code",
   "execution_count": null,
   "metadata": {},
   "outputs": [],
   "source": [
    "# Load user and recipe data from CSV files\n",
    "# https://www.kaggle.com/datasets/shuyangli94/food-com-recipes-and-user-interactions\n",
    "usr_rates = pd.read_csv('RAW_interactions.csv').copy()\n",
    "rcp = pd.read_csv('RAW_recipes.csv').copy()"
   ]
  },
  {
   "cell_type": "markdown",
   "metadata": {},
   "source": [
    "We aim to separate main dishes from desserts, more specifically savory from sweet. Since our recommendation algorithm relies on the distance between users to suggest a dish or a dessert, it seems relevant to distinguish between the two categories.\n",
    "\n",
    "To achieve this separation, we select the most frequent tags in the dataset:\n",
    "\n",
    "For main dishes: meat, vegetables, and seafood\n",
    "For desserts: desserts, cookies-and-brownies, and chocolate"
   ]
  },
  {
   "cell_type": "code",
   "execution_count": null,
   "metadata": {},
   "outputs": [],
   "source": [
    "# Filter recipes into main dishes and desserts according to the chosen tags\n",
    "rcp_main_dish = rcp[rcp['tags'].apply(\n",
    "    lambda x: 'main-dish' in x or 'meat' in x or 'vegetables' in x or 'seafood' in x)]\n",
    "rcp_dessert = rcp[rcp['tags'].apply(\n",
    "    lambda x: 'desserts' in x or 'cookies-and-brownies' in x or 'chocolate' in x)]"
   ]
  },
  {
   "cell_type": "code",
   "execution_count": null,
   "metadata": {},
   "outputs": [],
   "source": [
    "# Create sets of recipe IDs for main dishes and desserts\n",
    "main_dish_ids = set(rcp_main_dish['id'])\n",
    "dessert_ids = set(rcp_dessert['id'])\n",
    "\n",
    "# Define a function to determine the type of dish (main dish or dessert) based on the recipe ID\n",
    "def get_type_of_dish(recipe_id):\n",
    "    if recipe_id in dessert_ids:\n",
    "        return 'dessert'  # If the ID belongs to desserts\n",
    "    elif recipe_id in main_dish_ids:\n",
    "        return 'main'  # If the ID belongs to main dishes\n",
    "    else:\n",
    "        return 'none'  # If the ID does not belong to either category\n",
    "\n",
    "\n",
    "# Apply the function to add a 'type_of_dish' column to the recipe \n",
    "rcp['type_of_dish'] = rcp['id'].apply(get_type_of_dish)\n",
    "\n",
    "# Filter the recipes to keep only those classified as dessert or main dish\n",
    "rcp = rcp[rcp['type_of_dish'] != 'none']"
   ]
  },
  {
   "cell_type": "markdown",
   "metadata": {},
   "source": [
    "The reviews and dates are not important"
   ]
  },
  {
   "cell_type": "markdown",
   "metadata": {},
   "source": [
    "We gather all of each user’s ratings into lists to personally binarize them between -1 and 1 (dislike, like)"
   ]
  },
  {
   "cell_type": "code",
   "execution_count": null,
   "metadata": {},
   "outputs": [],
   "source": [
    "# Remove unnecessary columns from user interactions\n",
    "usr_rates.drop(columns=['review', 'date'], inplace=True)\n",
    "\n",
    "# Group interactions by user and aggregate the values into lists\n",
    "usr_rates = usr_rates.groupby('user_id').aggregate(list)"
   ]
  },
  {
   "cell_type": "code",
   "execution_count": null,
   "metadata": {},
   "outputs": [],
   "source": [
    "# Update the sets of IDs for desserts and main dishes\n",
    "dessert_ids = set(rcp[rcp['type_of_dish'] == 'dessert']['id'])\n",
    "main_dish_ids = set(rcp[rcp['type_of_dish'] == 'main']['id'])\n",
    "\n",
    "# Function to extract desserts from a list of recipe \n",
    "def get_list_of_desserts(recipe_id):\n",
    "    x = []\n",
    "    for i in recipe_id:\n",
    "        if i in dessert_ids:\n",
    "            x.append(i)\n",
    "    return x\n",
    "\n",
    "# Function to extract main dishes from a list of recipe IDs\n",
    "def get_list_of_mains(recipe_id):\n",
    "    x = []\n",
    "    for i in recipe_id:\n",
    "        if i in main_dish_ids:\n",
    "            x.append(i)\n",
    "    return x\n",
    "\n",
    "\n",
    "# Apply the functions to add 'recipes_dessert' and 'recipes_main' columns to the user \n",
    "usr_rates['recipes_dessert'] = usr_rates['recipe_id'].apply(\n",
    "    get_list_of_desserts)\n",
    "usr_rates['recipes_main'] = usr_rates['recipe_id'].apply(get_list_of_mains)"
   ]
  },
  {
   "cell_type": "markdown",
   "metadata": {},
   "source": [
    "Binarizing the ratings using K-Means"
   ]
  },
  {
   "cell_type": "code",
   "execution_count": null,
   "metadata": {},
   "outputs": [],
   "source": [
    "# Function to binarize ratings using K-Means\n",
    "def cluster_ratings(ratings):\n",
    "    km = KMeans(n_clusters=2, verbose=0, random_state=42)\n",
    "    ratings_array = np.array(ratings).reshape(-1, 1)\n",
    "    if len(set(ratings)) > 1:\n",
    "        km.fit(ratings_array)\n",
    "\n",
    "        # Calculate the means of each cluster\n",
    "        cluster_0_mean = np.mean(ratings_array[km.labels_ == 0])\n",
    "        cluster_1_mean = np.mean(ratings_array[km.labels_ == 1])\n",
    "\n",
    "        # Identify the cluster with the higher mean\n",
    "        high_label = 0 if cluster_0_mean > cluster_1_mean else 1\n",
    "\n",
    "        # Assign 1 to the higher-rated cluster and -1 to the other\n",
    "        return [1 if label == high_label else -1 for label in km.labels_]\n",
    "    else:\n",
    "        # If all ratings are identical, consider them as \"liked\"\n",
    "        return [1 for _ in ratings]\n",
    "\n",
    "\n",
    "# Add a 'ratings_binary' column with binarized \n",
    "usr_rates['ratings_binary'] = usr_rates['rating'].apply(cluster_ratings)"
   ]
  },
  {
   "cell_type": "code",
   "execution_count": null,
   "metadata": {},
   "outputs": [],
   "source": [
    "# Initialize two new columns for binary ratings of desserts and main \n",
    "usr_rates['ratings_dessert_binary'] = usr_rates['rating'].apply(lambda x: [])\n",
    "usr_rates['ratings_main_binary'] = usr_rates['rating'].apply(lambda x: [])"
   ]
  },
  {
   "cell_type": "code",
   "execution_count": null,
   "metadata": {},
   "outputs": [],
   "source": [
    "# Fill in the binary rating columns for desserts and main \n",
    "for i in usr_rates.index:  # Iterate over each \n",
    "\n",
    "    # If the user has rated desserts\n",
    "    if usr_rates['recipes_dessert'][i] != []:\n",
    "\n",
    "        # Associate the binary rating with the corresponding dessert recipe\n",
    "        for j in range(len(usr_rates['recipes_dessert'][i])):\n",
    "            usr_rates['ratings_dessert_binary'][i].append(\n",
    "                usr_rates['ratings_binary'][i][usr_rates['recipe_id'][i].index(usr_rates['recipes_dessert'][i][j])])\n",
    "\n",
    "    # If the user has rated main dishes\n",
    "    if usr_rates['recipes_main'][i] != []:\n",
    "\n",
    "        # Associate the binary rating with the corresponding main dish recipe\n",
    "        for j in range(len(usr_rates['recipes_main'][i])):\n",
    "            usr_rates['ratings_main_binary'][i].append(\n",
    "                usr_rates['ratings_binary'][i][usr_rates['recipe_id'][i].index(usr_rates['recipes_main'][i][j])])"
   ]
  },
  {
   "cell_type": "markdown",
   "metadata": {},
   "source": [
    "Separating main dishes and desserts into two different DataFrames"
   ]
  },
  {
   "cell_type": "code",
   "execution_count": null,
   "metadata": {},
   "outputs": [],
   "source": [
    "# Extract only the columns related to main dishes and their binary ratings\n",
    "usr_rates_main_dish = usr_rates[['recipes_main', 'ratings_main_binary']]\n",
    "\n",
    "# Rename the columns to make them more generic and suitable for later use\n",
    "usr_rates_main_dish.columns = ['recipes_id', 'rates']\n",
    "\n",
    "# Reset the index to transform the index into a column and obtain a standard tabular structure\n",
    "usr_rates_main_dish.reset_index(drop=False, inplace=True)\n",
    "\n",
    "# Extract only the columns related to desserts and their binary \n",
    "usr_rates_dessert = usr_rates[['recipes_dessert', 'ratings_dessert_binary']]\n",
    "\n",
    "# Rename the columns to standardize the data format\n",
    "usr_rates_dessert.columns = ['recipes_id', 'rates']\n",
    "\n",
    "# Reset the index to transform the index into a column, as done for the main dishes\n",
    "usr_rates_dessert.reset_index(drop=False, inplace=True)"
   ]
  },
  {
   "cell_type": "markdown",
   "metadata": {},
   "source": [
    "Creation of main dish and dessert matrices, with each user as a row and each recipe as a column, resulting in user/recipe vectors"
   ]
  },
  {
   "cell_type": "code",
   "execution_count": null,
   "metadata": {},
   "outputs": [],
   "source": [
    "def matrix(usr_rates):\n",
    "    # Retrieve and sort the unique recipes\n",
    "    recipes = sorted(set(chain.from_iterable(\n",
    "        filter(None, usr_rates['recipes_id']))))\n",
    "\n",
    "    # List of users\n",
    "    users = usr_rates['user_id']\n",
    "\n",
    "    # Initialize a zero matrix (users x recipes\n",
    "    M = np.zeros((len(users), len(recipes)))\n",
    "\n",
    "    # Map each recipe to an index\n",
    "    rcp_idx = {recipe: idx for idx, recipe in enumerate(recipes)}\n",
    "\n",
    "    # Fill the matrix with user ratings\n",
    "    for idx, (rcps, rates) in enumerate(zip(usr_rates['recipes_id'], usr_rates['rates'])):\n",
    "        for rcp, rate in zip(rcps, rates):\n",
    "            M[idx, rcp_idx[rcp]] = rate\n",
    "\n",
    "    # Convert the matrix into a DataFrame with users as index and recipes as columns\n",
    "    df_matrix = pd.DataFrame(M, index=users, columns=recipes)\n",
    "\n",
    "    return df_matrix"
   ]
  },
  {
   "cell_type": "code",
   "execution_count": null,
   "metadata": {},
   "outputs": [],
   "source": [
    "# Build the user-recipe matrices for main dishes and desserts\n",
    "df_matrix_main_dish = matrix(usr_rates_main_dish)\n",
    "df_matrix_dessert = matrix(usr_rates_dessert)"
   ]
  },
  {
   "cell_type": "markdown",
   "metadata": {},
   "source": [
    "After analyzing the data through network graphs, we observed the presence of isolated users. These isolated users are individuals who rated recipes that no one else has rated. Therefore, we decided to remove them from our datasets.\n",
    "\n",
    "Additionally, we made the decision to remove:\n",
    "\n",
    "- All recipes with fewer than one rating\n",
    "- All users with fewer than two ratings\n",
    "- All users without at least one positive rating\n",
    "\n",
    "In the PP() function, we loop until the dimensions of our DataFrames remain unchanged, ensuring that all the above rules are satisfied."
   ]
  },
  {
   "cell_type": "code",
   "execution_count": null,
   "metadata": {},
   "outputs": [],
   "source": [
    "def drop_isolated_users(df_matrix):\n",
    "    # Convert the DataFrame to a NumPy array for faster computations\n",
    "    np_matrix = df_matrix.to_numpy()\n",
    "\n",
    "    # Count the number of non-zero entries per column (recipes)\n",
    "    col_counts = (np_matrix != 0).sum(axis=0)\n",
    "\n",
    "    # Identify active columns (recipes rated by at least two users)\n",
    "    active_cols = col_counts >= 2\n",
    "\n",
    "    # Initialize a mask for non-isolated users\n",
    "    not_isolated_users = np.zeros(np_matrix.shape[0], dtype=bool)\n",
    "\n",
    "    # Mark users as non-isolated if they have rated an active recipe\n",
    "    for col in np.where(active_cols)[0]:\n",
    "        not_isolated_users |= (np_matrix[:, col] != 0)\n",
    "\n",
    "    # Identify isolated users\n",
    "    isolated_users = df_matrix.index[~not_isolated_users]\n",
    "\n",
    "    # Remove isolated users from the DataFrame\n",
    "    return df_matrix.drop(index=isolated_users)"
   ]
  },
  {
   "cell_type": "code",
   "execution_count": null,
   "metadata": {},
   "outputs": [],
   "source": [
    "def PP(df_matrix):\n",
    "    # Save the initial shape of the matrix\n",
    "    shape = df_matrix.shape\n",
    "\n",
    "    # Initial filter: Keep only users with at least 2 ratings\n",
    "    df_filt_matrix = df_matrix.loc[(df_matrix != 0).sum(axis=1) >= 2]\n",
    "\n",
    "    while True:\n",
    "        # Step 1: Retain columns (recipes) with at least 1 rating\n",
    "        df_filt_matrix = df_filt_matrix.loc[:,\n",
    "                                            (df_filt_matrix != 0).sum(axis=0) >= 1]\n",
    "\n",
    "        # Step 2: Retain rows (users) with at least 2 ratings\n",
    "        df_filt_matrix = df_filt_matrix.loc[(\n",
    "            df_filt_matrix != 0).sum(axis=1) >= 2]\n",
    "\n",
    "        # Step 3: Retain users with at least 1 positive rating\n",
    "        df_filt_matrix = df_filt_matrix.loc[(\n",
    "            df_filt_matrix == 1).sum(axis=1) >= 1]\n",
    "\n",
    "        # Step 4: Remove isolated users\n",
    "        df_filt_matrix = drop_isolated_users(df_filt_matrix)\n",
    "\n",
    "        # Check if the shape of the matrix has changed; if not, exit the loop\n",
    "        if df_filt_matrix.shape == shape:\n",
    "            break\n",
    "        else:\n",
    "            shape = df_filt_matrix.shape\n",
    "\n",
    "    # Return the filtered matrix\n",
    "    return df_filt_matrix"
   ]
  },
  {
   "cell_type": "code",
   "execution_count": null,
   "metadata": {},
   "outputs": [],
   "source": [
    "# Apply the filtering process (PP) to main dishes and desserts\n",
    "df_filt_matrix_main_dish = PP(df_matrix_main_dish)\n",
    "df_filt_matrix_dessert = PP(df_matrix_dessert)"
   ]
  },
  {
   "cell_type": "markdown",
   "metadata": {},
   "source": [
    "À partir de nos matrices, on retourne au format initial, format utilisé par notre algorithme de calcul des distances. "
   ]
  },
  {
   "cell_type": "code",
   "execution_count": null,
   "metadata": {},
   "outputs": [],
   "source": [
    "def matrix_toFormat(df_matrix):\n",
    "    # Initialize a list to store tuples (user, recipe, rating)\n",
    "    lst = []\n",
    "\n",
    "    # Iterate through each user (row in the matrix)\n",
    "    for usr in df_matrix.index:\n",
    "        # Get the recipes and ratings for the user\n",
    "        rates = df_matrix.loc[usr][df_matrix.loc[usr] != 0]\n",
    "\n",
    "        # Add a tuple (user, recipe, rating) for each rated recipe\n",
    "        for rcp, rate in rates.items():\n",
    "            lst.append((usr, rcp, rate))\n",
    "\n",
    "    # Convert the list to a DataFrame with columns 'user_id', 'recipe_id', and 'rate'\n",
    "    df = pd.DataFrame(lst, columns=['user_id', 'recipe_id', 'rate'])\n",
    "\n",
    "    # Return the formatted DataFrame\n",
    "    return df"
   ]
  },
  {
   "cell_type": "code",
   "execution_count": null,
   "metadata": {},
   "outputs": [],
   "source": [
    "# Convert the filtered matrices of main dishes and desserts into formatted DataFrames\n",
    "main_dishes = matrix_toFormat(df_filt_matrix_main_dish)\n",
    "desserts = matrix_toFormat(df_filt_matrix_dessert)"
   ]
  },
  {
   "cell_type": "code",
   "execution_count": null,
   "metadata": {},
   "outputs": [],
   "source": [
    "# Save the filtered DataFrames of main dishes and desserts to CSV \n",
    "main_dishes.to_csv('PP_user_main_dishes.csv')\n",
    "desserts.to_csv('PP_user_desserts.csv')"
   ]
  },
  {
   "cell_type": "markdown",
   "metadata": {},
   "source": [
    "In our application, we want to display the names, steps, and ingredients of each recipe. Therefore, we retrieve all this information using our final recipe IDs"
   ]
  },
  {
   "cell_type": "code",
   "execution_count": null,
   "metadata": {},
   "outputs": [],
   "source": [
    "# Combine the recipe IDs from main dishes and desserts\n",
    "ids = set(main_dishes['recipe_id']).union(set(desserts['recipe_id']))\n",
    "\n",
    "# Filter the recipe data to keep only those corresponding to the selected \n",
    "recipes_data = rcp[rcp['id'].isin(ids)].copy()\n",
    "\n",
    "# Remove unnecessary columns\n",
    "recipes_data.drop(columns=['minutes', 'contributor_id', 'submitted', 'tags', 'nutrition',\n",
    "                  'n_steps', 'n_ingredients', 'type_of_dish', 'description'], inplace=True)\n",
    "\n",
    "# Set recipe IDs as the index\n",
    "recipes_data.set_index('id')\n",
    "\n",
    "# Reorganize the \n",
    "recipes_data = recipes_data[[\n",
    "    'id', 'name', 'steps', 'ingredients']]"
   ]
  },
  {
   "cell_type": "code",
   "execution_count": null,
   "metadata": {},
   "outputs": [],
   "source": [
    "# Save the filtered recipe data to a CSV \n",
    "recipes_data.to_csv('PP_recipes_data.csv', index=False)"
   ]
  }
 ],
 "metadata": {
  "kernelspec": {
   "display_name": "code",
   "language": "python",
   "name": "python3"
  },
  "language_info": {
   "codemirror_mode": {
    "name": "ipython",
    "version": 3
   },
   "file_extension": ".py",
   "mimetype": "text/x-python",
   "name": "python",
   "nbconvert_exporter": "python",
   "pygments_lexer": "ipython3",
   "version": "3.12.7"
  }
 },
 "nbformat": 4,
 "nbformat_minor": 2
}
