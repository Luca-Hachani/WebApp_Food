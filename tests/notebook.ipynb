{
 "cells": [
  {
   "cell_type": "code",
   "execution_count": 4,
   "metadata": {},
   "outputs": [],
   "source": [
    "import numpy as np\n",
    "import pandas as pd"
   ]
  },
  {
   "cell_type": "code",
   "execution_count": 5,
   "metadata": {},
   "outputs": [],
   "source": [
    "path_users = \"../data/PP_users.csv\"\n",
    "df_users = pd.read_csv(path_users, sep=',')\n",
    "# print(df_users.info())"
   ]
  },
  {
   "cell_type": "code",
   "execution_count": null,
   "metadata": {},
   "outputs": [],
   "source": [
    "path_recipes = \"../data/PP_recipes.csv\"\n",
    "df_recipes = pd.read_csv(path_recipes, sep=',')\n",
    "print(df_recipes.info())\n",
    "# print(df_recipes.head())"
   ]
  },
  {
   "cell_type": "code",
   "execution_count": null,
   "metadata": {},
   "outputs": [],
   "source": [
    "path_recipes_raw = \"../data/RAW_recipes.csv\"\n",
    "df_recipes_raw = pd.read_csv(path_recipes_raw, sep=',')\n",
    "print(df_recipes_raw.info())\n",
    "# print(df_recipes_raw.head())"
   ]
  },
  {
   "cell_type": "code",
   "execution_count": null,
   "metadata": {},
   "outputs": [],
   "source": [
    "print(df_recipes[\"ingredient_ids\"][df_recipes[\"id\"]==424415])\n",
    "print(df_recipes_raw[\"ingredients\"][df_recipes_raw[\"id\"]==424415])"
   ]
  }
 ],
 "metadata": {
  "kernelspec": {
   "display_name": ".venv",
   "language": "python",
   "name": "python3"
  },
  "language_info": {
   "codemirror_mode": {
    "name": "ipython",
    "version": 3
   },
   "file_extension": ".py",
   "mimetype": "text/x-python",
   "name": "python",
   "nbconvert_exporter": "python",
   "pygments_lexer": "ipython3",
   "version": "3.12.4"
  }
 },
 "nbformat": 4,
 "nbformat_minor": 2
}
